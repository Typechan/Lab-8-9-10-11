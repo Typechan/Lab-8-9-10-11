{
 "cells": [
  {
   "cell_type": "code",
   "execution_count": 1,
   "id": "20c2fad8",
   "metadata": {},
   "outputs": [
    {
     "name": "stdout",
     "output_type": "stream",
     "text": [
      "Hi, this is my first change that will be commited from AlishevRakhat\n"
     ]
    }
   ],
   "source": [
    "print(\"Hi, this is my first change that will be commited from AlishevRakhat\")"
   ]
  },
  {
   "cell_type": "code",
   "execution_count": 2,
   "id": "c3f3c60d",
   "metadata": {},
   "outputs": [
    {
     "name": "stdout",
     "output_type": "stream",
     "text": [
      "First attempt failed, now I added my account properly, and hopefully it should work\n"
     ]
    }
   ],
   "source": [
    "print(\"First attempt failed, now I added my account properly, and hopefully it should work\")"
   ]
  },
  {
   "cell_type": "code",
   "execution_count": 1,
   "id": "dd320e7a",
   "metadata": {},
   "outputs": [
    {
     "name": "stdout",
     "output_type": "stream",
     "text": [
      "This is another folder, I pulled latest changes, and now commiting with my main account\n"
     ]
    }
   ],
   "source": [
    "print(\"This is another folder, I pulled latest changes, and now commiting with my main account\")"
   ]
  },
  {
   "cell_type": "code",
   "execution_count": 3,
   "id": "be94ab3d",
   "metadata": {},
   "outputs": [
    {
     "name": "stdout",
     "output_type": "stream",
     "text": [
      "Now I'm not specifying my user.name because I did earlier. Let's see if the change is commited with my second account\n"
     ]
    }
   ],
   "source": [
    "print(\"Now I'm not specifying my user.name because I did earlier. Let's see if the change is commited with my second account\")"
   ]
  },
  {
   "cell_type": "code",
   "execution_count": null,
   "id": "8aa6db38",
   "metadata": {},
   "outputs": [],
   "source": []
  }
 ],
 "metadata": {
  "kernelspec": {
   "display_name": "Python 3 (ipykernel)",
   "language": "python",
   "name": "python3"
  },
  "language_info": {
   "codemirror_mode": {
    "name": "ipython",
    "version": 3
   },
   "file_extension": ".py",
   "mimetype": "text/x-python",
   "name": "python",
   "nbconvert_exporter": "python",
   "pygments_lexer": "ipython3",
   "version": "3.10.5"
  }
 },
 "nbformat": 4,
 "nbformat_minor": 5
}
